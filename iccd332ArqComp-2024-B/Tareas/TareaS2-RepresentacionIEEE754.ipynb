{
 "cells": [
  {
   "cell_type": "markdown",
   "metadata": {
    "slideshow": {
     "slide_type": "slide"
    }
   },
   "source": [
    "<center>\n",
    "    <h1> Arquitectura de Computadores </h1>\n",
    "</center>\n",
    "\n",
    "**Nombre:** Luz Samara\n",
    "\n",
    "**Fecha:** 2024-11-28"
   ]
  },
  {
   "cell_type": "markdown",
   "metadata": {
    "slideshow": {
     "slide_type": "subslide"
    }
   },
   "source": [
    "## Objetivo\n",
    "\n",
    "1. Comprender la representación IEEE 754 en 32 bits de coma flotante\n",
    "2. Aprender a realizar una presentación de Jupyter Notebook\n",
    "\n",
    "## Instrucciones:\n",
    "\n",
    "1. Utilice este cuaderno de Jupyter en su entorno de `iccd332` creado dentro de WSL para crear una presentación sobre IEEE754. Realice unos slides detallando:\n",
    "    - El proceso para convertir un número decimal en base 10 a IEEE 754\n",
    "    - El proceso para convertir un número Hexadecimal en formato IEEE 754\n",
    "2. Conteste los ejercicios Propuestos en [S2-AritmeticaDigital.pdf](https://github.com/LeninGF/EPN-Lectures/blob/main/iccd332ArqComp-2024-B/S2-AritmeticaDigital.pdf)\n",
    "\n",
    "## Crear una Presentación de Jupyter\n",
    "1. Abrir el server en el cmd\n",
    "    jupyter-lab\n",
    "2. Abrir el notebook\n",
    "3. Configurar la celda como un slide o subslide seleccionando la opción adecuada desde el **inspector de propiedades** en la barra lateral derecha\n",
    "4. Configurar el estilo de la presentación: \n",
    "    - Settings/Settings Editor\n",
    "    - Seleccione Rise\n",
    "    - Seleccione el Reveal Theme (Recuerde que sólo funcionan los estilos claros)"
   ]
  },
  {
   "cell_type": "markdown",
   "metadata": {},
   "source": [
    "# Representación IEEE 754 Concepto\n",
    "\n",
    "En precisión simple (32 bits) la representación es:\n",
    "\n",
    "| Signo | Exponente (8 bits) | Mantisa (23 bits) |\n",
    "|:-----:|:------------------:|:------------------:|\n",
    "| 1 bit | 8 bits            | 23 bits            |\n",
    "\n",
    "Fórmula:\n",
    "\n",
    "$$(-1)^{signo} \\times 1.mantisa \\times 2^{(exponente - 127)}$$\n",
    "\n",
    "Excepción: números subnormales (exponente=0), ceros, infinitos y NaN."
   ]
  },
  {
   "cell_type": "markdown",
   "metadata": {},
   "source": [
    "## Conversión de un Número Decimal a IEEE 754\n",
    "\n",
    "Pasos generales:\n",
    "1. Determinar el signo (0 positivo, 1 negativo).\n",
    "2. Convertir parte entera y fraccionaria a binario.\n",
    "3. Normalizar a la forma `1.xxxxxx * 2^E`.\n",
    "4. Exponente sesgado = `E + 127` (8 bits).\n",
    "5. Mantisa = bits después del punto (23 bits, rellenar con ceros o truncar).\n",
    "6. Unir: signo (1 bit) + exponente (8 bits) + mantisa (23 bits).\n",
    "\n",
    "Ejemplo rápido (13.375):\n",
    "- 13.375 -> binario `1101.011` -> normalizado `1.101011 x 2^3`.\n",
    "- Exponente = 3 + 127 = 130 -> `10000010`.\n",
    "- Mantisa = `10101100000000000000000`.\n",
    "- Resultado binario: `0 10000010 10101100000000000000000` -> hex `41560000`."
   ]
  },
  {
   "cell_type": "markdown",
   "metadata": {},
   "source": [
    "## Conversión de un Número Hexadecimal a IEEE 754\n",
    "\n",
    "Pasos:\n",
    "1. Convertir el hex a 32 bits binarios.\n",
    "2. Separar signo (1), exponente (8), mantisa (23).\n",
    "3. Si exponente es entre 1 y 254, el valor es $(-1)^s\\times 1.mantisa \\times 2^{exp-127}$.\n",
    "4. Si exponente=0 -> subnormal o cero; si exponente=255 -> infinito/NaN según mantisa.\n",
    "\n",
    "Ejemplo: hex `42C80000` -> bin `01000010110010000000000000000000` -> signo 0, exp `10000101`=133 -> E=6 -> valor = +100.0"
   ]
  },
  {
   "cell_type": "markdown",
   "metadata": {},
   "source": [
    "## Consulta\n",
    "1. ¿cuáles son el número más grande y más pequeño que puede representar la IEEE754 de 32 bits?\n",
    "\n",
    "Realice el cálculo usando una celda de código (se incluye más abajo)."
   ]
  },
{
    "cell_type": "code",
    "execution_count": null,
    "metadata": {},
    "outputs": [],
    "source": [
      "# Cálculo del número máximo y mínimo representable en IEEE 754 de 32 bits\n",
      "\n",
      "# Exponente sesgado máximo (254) → real = 127\n",
      "# Exponente sesgado mínimo (1) → real = -126\n",
      "# Mantisa máxima (1 + (1 - 2^-23)) = 1.111111... en binario\n",
      "\n",
      "max_exponente = 127\n",
      "min_exponente = -126\n",
      "mantisa_max = 1 + (1 - 2**-23)\n",
      "\n",
      "# Números máximo y mínimo normalizados\n",
      "numero_maximo = mantisa_max * (2 ** max_exponente)\n",
      "numero_minimo = 2 ** min_exponente\n",
      "\n",
      "print(f\"Número máximo representable: {numero_maximo:.10e}\")\n",
      "print(f\"Número mínimo normalizado: {numero_minimo:.10e}\")"
    ]
  },
  {
   "cell_type": "markdown",
   "metadata": {},
   "source": [
    "## Consulta \n",
    "2. ¿Cuál es la representación IEEE 754 de?\n",
    "    - $0^{+}$\n",
    "    - $0^{-}$\n",
    "    - $\\infty^{+}$\n",
    "    - $\\infty^{-}$\n",
    "    - NaN\n",
    "\n",
    "Realice un slide para cada item (aquí están las respuestas para que pegues en slides separados si lo deseas)."
   ]
  },
  {
   "cell_type": "markdown",
   "metadata": {},
   "source": [
    "# Respuestas: valores especiales (cada item puede ir en un slide)\n",
    "\n",
    "- $0^{+}$: signo=0, exponente=00000000, mantisa=000...0 -> **hex** `0x00000000` -> **bin** `00000000000000000000000000000000`\n",
    "- $0^{-}$: signo=1, exponente=00000000, mantisa=000...0 -> **hex** `0x80000000` -> **bin** `10000000000000000000000000000000`\n",
    "- $\\infty^{+}$: signo=0, exponente=11111111, mantisa=000...0 -> **hex** `0x7F800000` -> **bin** `01111111100000000000000000000000`\n",
    "- $\\infty^{-}$: signo=1, exponente=11111111, mantisa=000...0 -> **hex** `0xFF800000` -> **bin** `11111111100000000000000000000000`\n",
    "- NaN: exponente=11111111, mantisa != 0. Ejemplo quieto (quiet NaN): **hex** `0x7FC00000` -> **bin** `01111111110000000000000000000000`."
   ]
  },
  {
   "cell_type": "markdown",
   "metadata": {},
   "source": [
    "# Ejercicios\n",
    "Resuelva cada item en un slide nuevo. Puede usar el cuaderno para hacer cálculos y usar `bin`, `oct` o `hex` para hacer conversiones\n",
    "1. Convierta -0.5 en IEEE 754 de 32 bits\n",
    "2. Convierta +234.75 en IEEE 754 de 32 bits\n",
    "3. Convierta 402DF854₁₆ de IEEE 754 32 bits a decimal\n",
    "4. En clase se estudió el algoritmo utilizado por los desarrolladores de Quake para obtener la raíz cuadrada inversa. En el vídeo se presenta el número hexadecimal 0x5F3759DF, el cual ocupa 32 bits. Suponga que el número es la representación en coma flotante de un número decimal $X_{10}$, ¿Cuál es el número?"
   ]
  },
  {
   "cell_type": "markdown",
   "metadata": {},
   "source": [
    "## Solución ejercicio 1: -0.5 (slide)\n",
    "\n",
    "1. Signo = 1 (negativo)\n",
    "2. 0.5 en binario = `0.1` = `1.0 × 2^{-1}`\n",
    "3. Exponente real E = -1 -> exponente sesgado = -1 + 127 = 126 -> `01111110`\n",
    "4. Mantisa = 00000000000000000000000\n",
    "\n",
    "**Binario final:** `1 01111110 00000000000000000000000`\n",
    "**32-bit:** `10111111000000000000000000000000`\n",
    "**Hex:** `0xBF000000`"
   ]
  },
  {
   "cell_type": "markdown",
   "metadata": {},
   "source": [
    "## Solución ejercicio 2: +234.75 (slide)\n",
    "\n",
    "Detalles paso a paso:\n",
    "1. Signo = 0 (positivo)\n",
    "2. Parte entera 234 -> bin `11101010`.\n",
    "   Parte fraccionaria 0.75 -> bin `0.11`.\n",
    "   Entonces 234.75 -> `11101010.11`.\n",
    "3. Normalizar: `1.110101011 x 2^7` (movimos punto 7 posiciones).\n",
    "4. Exponente sesgado = 7 + 127 = 134 -> `10000110`.\n",
    "5. Mantisa (23 bits) = `11010101100000000000000` (completamos con ceros).\n",
    "\n",
    "**Binario final:** `0 10000110 11010101100000000000000`\n",
    "**32-bit:** `01000011011010101100000000000000`\n",
    "**Hex:** `0x436B5800`  (comprobable en Python/struct)"
   ]
  },
  {
   "cell_type": "markdown",
   "metadata": {},
   "source": [
    "## Solución ejercicio 3: 0x402DF854₁₆ -> decimal (slide)\n",
    "\n",
    "Convirtiendo la representación IEEE754 hex `402DF854` a decimal (precisión simple):\n",
    "\n",
    "- Binario de 0x402DF854: `01000000001011011111100001010100` (separar en campos: signo, exponente, mantisa)\n",
    "- Interpretación (signo=0), exponente (8 bits) = `10000000` = 128 -> E = 128 - 127 = 1\n",
    "- Mantisa = `01011011111100001010100` -> valor del significando = 1.mantisa\n",
    "\n",
    "**Resultado (decimal):** aproximadamente **2.7182817459106445**\n",
    "\n",
    "Observación: es muy cercano al número e (2.718281828...), por eso se ve así."
   ]
  },
  {
   "cell_type": "markdown",
   "metadata": {},
   "source": [
    "## Solución ejercicio 4: 0x5F3759DF (slide)\n",
    "\n",
    "Si interpretamos el patrón de bits `0x5F3759DF` como un `float32`, su valor decimal es muy grande:\n",
    "\n",
    "**Resultado (decimal):** aproximadamente **1.3211836172961055e+19**\n",
    "\n",
    "Nota histórica: en el algoritmo de Quake para *fast inverse square root* ese `0x5f3759df` se usa como un *hack* en la interpretación de bits (se interpreta el entero como float y luego se realizan operaciones bitwise). No significa que el valor de punto flotante sea la cantidad que buscan; más bien se usa para obtener una aproximación inicial a la inversa de la raíz cuadrada."
   ]
  },
  {
   "cell_type": "markdown",
   "metadata": {},
   "source": [
    "# Programa de Conversión\n",
    "\n",
    "¿Qué realiza el siguiente código? Define un diccionario con las claves `ieee754_bin` y `ieee754_hex` para devolver ambas representaciones\n",
    "\n",
    "Abajo está el código corregido que efectivamente devuelve un diccionario con la representación binaria y hexadecimal para un `float` en IEEE 754 (32 bits). Además se incluyen utilidades para convertir hex->float y para mostrar los resultados de los ejercicios."
   ]
  },
  {
   "cell_type": "code",
   "execution_count": null,
   "metadata": {},
   "outputs": [],
   "source": [
    "import struct\n",
    "import math\n",
    "\n",
    "def float_to_ieee754(numero_decimal):\n",
    "    \"\"\"Devuelve un diccionario con la representación IEEE754 (binaria y hex) de un float (32-bit).\n",
    "    Usa empaquetado en big-endian ('!f') para mantener consistencia con las conversiones.\"\"\"\n",
    "    # Empaqueta el número en formato IEEE 754 de 32 bits (big-endian)\n",
    "    packed = struct.pack('!f', float(numero_decimal))\n",
    "    # Convierte el número empaquetado a una representación binaria de 32 bits\n",
    "    binary = ''.join(f'{byte:08b}' for byte in packed)\n",
    "    hex_representation = packed.hex().upper()\n",
    "    return {\n",
    "        'ieee754_bin': binary,\n",
    "        'ieee754_hex': hex_representation\n",
    "    }\n",
    "\n",
    "def ieee754_hex_to_float(hex_string):\n",
    "    \"\"\"Convierte un string hex (por ejemplo '402DF854') a float32 interpretando los bits como IEEE754.\"\"\"\n",
    "    # Acepta con o sin prefijo 0x\n",
    "    hex_clean = hex_string.replace('0x','').replace('0X','')\n",
    "    b = bytes.fromhex(hex_clean)\n",
    "    return struct.unpack('!f', b)[0]\n",
    "\n",
    "def float_from_parts(sign, exp, mant):\n",
    "    \"\"\"Construye un float32 desde partes (útil para comprobar máximos/minimos).\"\"\"\n",
    "    i = (sign<<31) | (exp<<23) | mant\n",
    "    b = i.to_bytes(4,'big')\n",
    "    return struct.unpack('!f', b)[0], hex(i)\n",
    "\n",
    "# Ejemplos y resoluciones solicitadas:\n",
    "ej1 = float_to_ieee754(-0.5)\n",
    "ej2 = float_to_ieee754(234.75)\n",
    "hex3 = '402DF854'\n",
    "val3 = ieee754_hex_to_float(hex3)\n",
    "hex4 = '5F3759DF'\n",
    "val4 = ieee754_hex_to_float(hex4)\n",
    "\n",
    "# Cálculo del máximo y mínimo normalizado representable en float32\n",
    "max_f, max_hex = float_from_parts(0, 254, (1<<23)-1)   # exp=254, mantisa=all 1s -> máximo finito\n",
    "min_norm_f, min_norm_hex = float_from_parts(0, 1, 0)   # exp=1, mantisa=0 -> mínimo normalizado\n",
    "\n",
    "print(f\"-0.5 -> bin: {ej1['ieee754_bin']}  hex: 0x{ej1['ieee754_hex']}\")\n",
    "print(f\"234.75 -> bin: {ej2['ieee754_bin']}  hex: 0x{ej2['ieee754_hex']}\")\n",
    "print(f\"0x{hex3} -> decimal (float32): {val3}\")\n",
    "print(f\"0x{hex4} -> decimal (float32): {val4}\")\n",
    "print('\\nMáximo finito float32 aproximado:', max_f, 'hex bits:', max_hex)\n",
    "print('Mínimo normalizado float32 aproximado:', min_norm_f, 'hex bits:', min_norm_hex)\n"
   ]
  },
  {
   "cell_type": "markdown",
   "metadata": {},
   "source": [
    "## Output esperado al ejecutar la celda de código (ejemplo)\n",
    "\n",
    "Al ejecutar la celda de código anterior en tu Jupyter deberías ver impresiones similares a:\n",
    "\n",
    "- `-0.5 -> bin: 10111111000000000000000000000000  hex: 0xBF000000`\n",
    "- `234.75 -> bin: 01000011011010101100000000000000  hex: 0x436B5800` (o equivalente dependiendo de redondeo en mantisa)\n",
    "- `0x402DF854 -> decimal (float32): 2.7182817459106445`\n",
    "- `0x5F3759DF -> decimal (float32): 1.3211836172961055e+19`\n",
    "- `Máximo finito float32 aproximado: 3.4028234663852886e+38 (hex bits: 0x7f7fffff)`\n",
    "- `Mínimo normalizado float32 aproximado: 1.1754943508222875e-38 (hex bits: 0x800000)`\n",
    "\n",
    "Si quieres, puedes ejecutar la celda para confirmar estos valores en tu entorno WSL."
   ]
  }
 ],
 "metadata": {
  "kernelspec": {
   "display_name": "tfwin",
   "language": "python",
   "name": "python3"
  },
  "language_info": {
   "codemirror_mode": {
    "name": "ipython",
    "version": 3
   },
   "file_extension": ".py",
   "mimetype": "text/x-python",
   "name": "python",
   "nbconvert_exporter": "python",
   "pygments_lexer": "ipython3",
   "version": "3.9.20"
  }
 },
 "nbformat": 4,
 "nbformat_minor": 2
}

